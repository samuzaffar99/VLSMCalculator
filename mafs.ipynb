{
 "metadata": {
  "language_info": {
   "codemirror_mode": {
    "name": "ipython",
    "version": 3
   },
   "file_extension": ".py",
   "mimetype": "text/x-python",
   "name": "python",
   "nbconvert_exporter": "python",
   "pygments_lexer": "ipython3",
   "version": "3.8.5"
  },
  "orig_nbformat": 2,
  "kernelspec": {
   "name": "python385jvsc74a57bd092276d61c3472c4965d848b4587d052762706bffc66db3224f4ee63e5477bca3",
   "display_name": "Python 3.8.5 64-bit ('base': conda)"
  }
 },
 "nbformat": 4,
 "nbformat_minor": 2,
 "cells": [
  {
   "cell_type": "code",
   "execution_count": 3,
   "metadata": {},
   "outputs": [],
   "source": [
    "from math import log2,ceil, modf,floor\n",
    "import ipaddress"
   ]
  },
  {
   "cell_type": "code",
   "execution_count": 2,
   "metadata": {},
   "outputs": [],
   "source": [
    "myIP = \"192.168.1.0/20\"\n",
    "hosts = [500,44,35,11]"
   ]
  },
  {
   "cell_type": "code",
   "execution_count": 3,
   "metadata": {},
   "outputs": [],
   "source": [
    "def getNetwork():\n",
    "    NetStr = myIP\n",
    "    NetSplit= NetStr.split(\"/\")\n",
    "    print(NetSplit)\n",
    "    if(len(NetSplit)!=2):\n",
    "        print(\"Invalid Network Address\")\n",
    "        return\n",
    "    IPStr = NetSplit[0].split(\".\")\n",
    "    IP = list(map(int,IPStr))\n",
    "    \n",
    "    Prefix = int(NetSplit[1])\n",
    "    print(IP,Prefix)\n",
    "    return IP, Prefix"
   ]
  },
  {
   "cell_type": "code",
   "execution_count": 4,
   "metadata": {},
   "outputs": [
    {
     "output_type": "stream",
     "name": "stdout",
     "text": [
      "['192.168.1.0', '20']\n[192, 168, 1, 0] 20\nTotal Hosts Required:  656\nTotal Hosts Available:  4096\nMax Prefix Allowed:  22\n[192, 168, 0, 0]\nSlash:  23\nAvailable Hosts:  510\nWasted Hosts:  10\nNetwork Address:  192.168.0.0\nBroadcast Address:  192.168.1.255\nWildcard Address:  0.0.1.255\nSubnet Mask:  255.255.254.0\nStarting IP Address:  192.168.0.1\nEnding IP Address:  192.168.1.254\n\nSlash:  26\nAvailable Hosts:  62\nWasted Hosts:  18\nNetwork Address:  192.168.2.0\nBroadcast Address:  192.168.2.63\nWildcard Address:  0.0.0.63\nSubnet Mask:  255.255.255.192\nStarting IP Address:  192.168.2.1\nEnding IP Address:  192.168.2.62\n\nSlash:  26\nAvailable Hosts:  62\nWasted Hosts:  27\nNetwork Address:  192.168.2.64\nBroadcast Address:  192.168.2.127\nWildcard Address:  0.0.0.63\nSubnet Mask:  255.255.255.192\nStarting IP Address:  192.168.2.65\nEnding IP Address:  192.168.2.126\n\nSlash:  28\nAvailable Hosts:  14\nWasted Hosts:  3\nNetwork Address:  192.168.2.128\nBroadcast Address:  192.168.2.143\nWildcard Address:  0.0.0.15\nSubnet Mask:  255.255.255.240\nStarting IP Address:  192.168.2.129\nEnding IP Address:  192.168.2.142\n\n"
     ]
    }
   ],
   "source": [
    "NetAdd,Prefix = getNetwork()\n",
    "\n",
    "TotalHosts = 0\n",
    "for i in range(len(hosts)):\n",
    "    TotalHosts += 2**ceil(log2(hosts[i]+2))\n",
    "print(\"Total Hosts Required: \",TotalHosts)\n",
    "print(\"Total Hosts Available: \",2**(32-Prefix))\n",
    "\n",
    "MaxPrefix = 32-ceil(log2(TotalHosts))\n",
    "print(\"Max Prefix Allowed: \",MaxPrefix)\n",
    "if(Prefix>MaxPrefix):\n",
    "    print(f\"Using Prefix /{MaxPrefix} instead\")\n",
    "    Prefix = MaxPrefix\n",
    "\n",
    "NetData = [0]*4\n",
    "Octet = int(Prefix/8)\n",
    "for i in range(Octet):\n",
    "    NetData[i]=NetAdd[i]\n",
    "print(NetData)\n",
    "ipAddress = ipaddress.ip_address('.'.join(map(str,NetData)))\n",
    "\n",
    "for i in range(len(hosts)):\n",
    "    NeededHosts = hosts[i]\n",
    "    HostBits = ceil(log2(NeededHosts+2))\n",
    "    Slash = 32-HostBits\n",
    "    # print(\"Needed Hosts: \",NeededHosts)\n",
    "    # print(\"Host Bits: \",HostBits)\n",
    "    print(\"Slash: \", Slash)\n",
    "    UnavailCount = 2 # *(4-Octet)\n",
    "    nAddresses= 2**HostBits\n",
    "    # print(\"Available Addresses: \", nAddresses)\n",
    "    ValidHosts = nAddresses - UnavailCount\n",
    "    print(\"Available Hosts: \", ValidHosts)\n",
    "    WastedHosts = nAddresses - NeededHosts - UnavailCount\n",
    "    print(\"Wasted Hosts: \", WastedHosts)\n",
    "\n",
    "    subnet = ipaddress.IPv4Network(str(ipAddress)+f\"/{Slash}\")\n",
    "    print(\"Network Address: \", subnet.network_address)\n",
    "    print(\"Broadcast Address: \", subnet.broadcast_address)\n",
    "    print(\"Wildcard Address: \", subnet.hostmask)\n",
    "    print(\"Subnet Mask: \", subnet.netmask)\n",
    "\n",
    "    hostList = list(subnet.hosts())\n",
    "    print(\"Starting IP Address: \", hostList[0])\n",
    "    print(\"Ending IP Address: \", hostList[-1])\n",
    "    # Range = AvailStartStr + \" - \" + AvailEndStr\n",
    "    ipAddress += nAddresses\n",
    "    print()\n",
    "    "
   ]
  },
  {
   "cell_type": "code",
   "execution_count": 5,
   "metadata": {},
   "outputs": [
    {
     "output_type": "stream",
     "name": "stdout",
     "text": [
      "[192, 168, 2, 0]\n256\n65536\n16777216\n4294967296\n"
     ]
    },
    {
     "output_type": "error",
     "ename": "NameError",
     "evalue": "name 'slash' is not defined",
     "traceback": [
      "\u001b[1;31m---------------------------------------------------------------------------\u001b[0m",
      "\u001b[1;31mNameError\u001b[0m                                 Traceback (most recent call last)",
      "\u001b[1;32m<ipython-input-5-eca07e3ff854>\u001b[0m in \u001b[0;36m<module>\u001b[1;34m\u001b[0m\n\u001b[0;32m     15\u001b[0m \u001b[1;33m\u001b[0m\u001b[0m\n\u001b[0;32m     16\u001b[0m \u001b[0mOctet\u001b[0m \u001b[1;33m==\u001b[0m \u001b[0mfloor\u001b[0m\u001b[1;33m(\u001b[0m\u001b[0mSlash\u001b[0m\u001b[1;33m/\u001b[0m\u001b[1;36m8\u001b[0m\u001b[1;33m)\u001b[0m\u001b[1;33m\u001b[0m\u001b[1;33m\u001b[0m\u001b[0m\n\u001b[1;32m---> 17\u001b[1;33m \u001b[1;33m(\u001b[0m\u001b[1;36m2\u001b[0m\u001b[1;33m**\u001b[0m\u001b[0mslash\u001b[0m\u001b[1;33m)\u001b[0m\u001b[1;33m%\u001b[0m\u001b[1;36m256\u001b[0m\u001b[1;33m\u001b[0m\u001b[1;33m\u001b[0m\u001b[0m\n\u001b[0m\u001b[0;32m     18\u001b[0m \u001b[1;36m2\u001b[0m\u001b[1;33m**\u001b[0m\u001b[1;33m(\u001b[0m\u001b[1;36m8\u001b[0m\u001b[1;33m-\u001b[0m\u001b[0mslash\u001b[0m\u001b[1;33m%\u001b[0m\u001b[1;36m8\u001b[0m\u001b[1;33m)\u001b[0m\u001b[1;33m\u001b[0m\u001b[1;33m\u001b[0m\u001b[0m\n\u001b[0;32m     19\u001b[0m \u001b[1;33m\u001b[0m\u001b[0m\n",
      "\u001b[1;31mNameError\u001b[0m: name 'slash' is not defined"
     ]
    }
   ],
   "source": [
    "NetData = [192,168,0,0]\n",
    "AvailHosts=512\n",
    "\n",
    "NetData[3]+=AvailHosts\n",
    "for k in range(3):\n",
    "    div,rem = divmod(NetData[3-k],256)\n",
    "    NetData[3-k]=rem\n",
    "    NetData[2-k]+=div\n",
    "    # NetData[3-k]=t%255\n",
    "    # NetData[2-k]=int(AvailHosts/(2**(8*(i+1)))))%256\n",
    "print(NetData)\n",
    "\n",
    "for i in range(4):\n",
    "    print(2**(8*(i+1)))\n",
    "\n",
    "Octet == floor(Slash/8)\n",
    "(2**slash)%256\n",
    "2**(8-slash%8)\n",
    "\n",
    "slash = 30\n",
    "hostbits = 32 - slash\n",
    "256-2**(hostbits%8)\n"
   ]
  },
  {
   "cell_type": "code",
   "execution_count": 7,
   "metadata": {},
   "outputs": [],
   "source": [
    "\n",
    "def Addr(Address,add):\n",
    "    # Value = 0\n",
    "    # for i in range(len(Address)):\n",
    "    #     Value +=(2**(8*i))*Address[3-i]\n",
    "    # print(Value)\n",
    "    # BinAddr = []\n",
    "    # for i in range(len(Address)):\n",
    "    #     BinAddr.append(format(Address[i], \"b\").zfill(8))\n",
    "    # Bin = ''.join(BinAddr)\n",
    "    # print(Bin)\n",
    "    # print(int(Bin,2)+add)"
   ]
  },
  {
   "cell_type": "code",
   "execution_count": 8,
   "metadata": {},
   "outputs": [
    {
     "output_type": "stream",
     "name": "stdout",
     "text": [
      "192.168.2.0\n"
     ]
    }
   ],
   "source": [
    "myIP = \"192.168.1.0\"\n",
    "Addr(myIP,256)"
   ]
  },
  {
   "cell_type": "code",
   "execution_count": 13,
   "metadata": {},
   "outputs": [
    {
     "output_type": "stream",
     "name": "stdout",
     "text": [
      "2001:db8::/32\n",
      "2001:0db8:0000:0000:0000:0000:0000:0000/32\n",
      "32\n",
      "35\n"
     ]
    }
   ],
   "source": [
    "addrv6=\"2001:db8::/32\"\n",
    "network = ipaddress.IPv6Network(addrv6)\n",
    "print(network)\n",
    "print(network.exploded)\n",
    "print(network.prefixlen)\n",
    "nsubs = 5\n",
    "subprefix = network.prefixlen+ceil(log2(nsubs))\n",
    "print(subprefix)"
   ]
  },
  {
   "cell_type": "code",
   "execution_count": null,
   "metadata": {},
   "outputs": [],
   "source": []
  }
 ]
}